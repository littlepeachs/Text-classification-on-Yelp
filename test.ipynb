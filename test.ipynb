{
 "cells": [
  {
   "cell_type": "code",
   "execution_count": 2,
   "metadata": {},
   "outputs": [
    {
     "data": {
      "text/html": [
       "<div>\n",
       "<style scoped>\n",
       "    .dataframe tbody tr th:only-of-type {\n",
       "        vertical-align: middle;\n",
       "    }\n",
       "\n",
       "    .dataframe tbody tr th {\n",
       "        vertical-align: top;\n",
       "    }\n",
       "\n",
       "    .dataframe thead th {\n",
       "        text-align: right;\n",
       "    }\n",
       "</style>\n",
       "<table border=\"1\" class=\"dataframe\">\n",
       "  <thead>\n",
       "    <tr style=\"text-align: right;\">\n",
       "      <th></th>\n",
       "      <th>5</th>\n",
       "      <th>i love this place!!! their drink is awsome!!!\\nwhen i camein, they always know what i want\\nabout the service, they are pretty nice to me:)\\nsometime they got busy, i will excusedf\\nwhy people complain a lot? \\nif u don't like this place just don't go there then.</th>\n",
       "    </tr>\n",
       "  </thead>\n",
       "  <tbody>\n",
       "    <tr>\n",
       "      <th>0</th>\n",
       "      <td>5</td>\n",
       "      <td>Given the only thing I've gotten here is vario...</td>\n",
       "    </tr>\n",
       "    <tr>\n",
       "      <th>1</th>\n",
       "      <td>4</td>\n",
       "      <td>Muuuuuch better than Sbux. I really enjoy this...</td>\n",
       "    </tr>\n",
       "    <tr>\n",
       "      <th>2</th>\n",
       "      <td>2</td>\n",
       "      <td>Hahaha ha ha.  What a shithole.\\n\\nYep, like e...</td>\n",
       "    </tr>\n",
       "    <tr>\n",
       "      <th>3</th>\n",
       "      <td>4</td>\n",
       "      <td>This is one of our staple restaurants. There i...</td>\n",
       "    </tr>\n",
       "    <tr>\n",
       "      <th>4</th>\n",
       "      <td>1</td>\n",
       "      <td>SO DISSATISFIED!!! Really have always enjoyed ...</td>\n",
       "    </tr>\n",
       "  </tbody>\n",
       "</table>\n",
       "</div>"
      ],
      "text/plain": [
       "   5  \\\n",
       "0  5   \n",
       "1  4   \n",
       "2  2   \n",
       "3  4   \n",
       "4  1   \n",
       "\n",
       "  i love this place!!! their drink is awsome!!!\\nwhen i camein, they always know what i want\\nabout the service, they are pretty nice to me:)\\nsometime they got busy, i will excusedf\\nwhy people complain a lot? \\nif u don't like this place just don't go there then.  \n",
       "0  Given the only thing I've gotten here is vario...                                                                                                                                                                                                                       \n",
       "1  Muuuuuch better than Sbux. I really enjoy this...                                                                                                                                                                                                                       \n",
       "2  Hahaha ha ha.  What a shithole.\\n\\nYep, like e...                                                                                                                                                                                                                       \n",
       "3  This is one of our staple restaurants. There i...                                                                                                                                                                                                                       \n",
       "4  SO DISSATISFIED!!! Really have always enjoyed ...                                                                                                                                                                                                                       "
      ]
     },
     "execution_count": 2,
     "metadata": {},
     "output_type": "execute_result"
    }
   ],
   "source": [
    "import pandas as pd\n",
    "dataset = pd.read_csv(\"yelp_small\\\\valid.csv\",sep=',')\n",
    "dataset.head()"
   ]
  },
  {
   "cell_type": "markdown",
   "metadata": {},
   "source": []
  }
 ],
 "metadata": {
  "kernelspec": {
   "display_name": "Python 3.7.9 64-bit",
   "language": "python",
   "name": "python3"
  },
  "language_info": {
   "codemirror_mode": {
    "name": "ipython",
    "version": 3
   },
   "file_extension": ".py",
   "mimetype": "text/x-python",
   "name": "python",
   "nbconvert_exporter": "python",
   "pygments_lexer": "ipython3",
   "version": "3.7.9"
  },
  "orig_nbformat": 4,
  "vscode": {
   "interpreter": {
    "hash": "8730bb92a2e74a2789472ab4d7ac9296891e7f7cc6c18632c38baa48d52ae5ec"
   }
  }
 },
 "nbformat": 4,
 "nbformat_minor": 2
}
